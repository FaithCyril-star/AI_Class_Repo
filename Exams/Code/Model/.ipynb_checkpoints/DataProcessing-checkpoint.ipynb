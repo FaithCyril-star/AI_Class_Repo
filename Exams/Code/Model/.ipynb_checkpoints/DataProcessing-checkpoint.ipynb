{
 "cells": [
  {
   "cell_type": "code",
   "execution_count": null,
   "metadata": {},
   "outputs": [],
   "source": [
    "import pandas as pd\n",
    "data =  pd.read_csv(\"Dataset/news-article-categories.csv\")\n",
    "data.head()"
   ]
  }
 ],
 "metadata": {
  "language_info": {
   "name": "python"
  }
 },
 "nbformat": 4,
 "nbformat_minor": 2
}
